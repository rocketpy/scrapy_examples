{
 "cells": [
  {
   "cell_type": "code",
   "execution_count": null,
   "metadata": {},
   "outputs": [],
   "source": [
    "#  pip install scrapy"
   ]
  },
  {
   "cell_type": "code",
   "execution_count": null,
   "metadata": {},
   "outputs": [],
   "source": [
    "# for download web page\n",
    "# in console write : scrapy shell https:// ... .com \n",
    "\n",
    "# print(response.text)\n",
    "# take some info by CSS selectors :\n",
    "# response.css('span.text')  it's a <span class=text>'Text'</span>\n",
    "# response.css('span.text').extract()\n",
    "# response.css('span.text::text').extract() - take text from tag span\n",
    "# response.css('span.text::text')[0].extract() - same\n",
    "# response.css('span.text::text').extract_first() - same"
   ]
  },
  {
   "cell_type": "code",
   "execution_count": null,
   "metadata": {},
   "outputs": [],
   "source": [
    "# response.css('a.tag')\n",
    "# response.css('a.tag::text').extract()  - take text from tag a"
   ]
  },
  {
   "cell_type": "code",
   "execution_count": null,
   "metadata": {},
   "outputs": [],
   "source": [
    "import scrapy\n",
    "\n",
    "class FirstSpider(scrapy.Spider):\n",
    "    name = \"FirstSpider\"\n",
    "    \n",
    "    def start_requests(self):\n",
    "        urls = [\n",
    "            'http://quotes.toscrape.com/page/1/'\n",
    "            'http://quotes.toscrape.com/page/2/'\n",
    "    ]\n",
    "    for url in urls:\n",
    "        yield scrapy.Request(url=url, callback=self.parse)\n",
    "        \n",
    "    def parse(self, response):\n",
    "        page = response.url.split(\"/\")[-2]\n",
    "        filename = 'quotes-%s.html' %page\n",
    "        with open(filename, 'wb') as f:\n",
    "            f.write(response.body)\n",
    "        self.log('Saved file %s' % filename)\n",
    "        "
   ]
  },
  {
   "cell_type": "code",
   "execution_count": null,
   "metadata": {},
   "outputs": [],
   "source": [
    "# in console open directory - Spiders (cd Spiders)\n",
    "# execute in console command : scrapy crawl FirstSpider"
   ]
  }
 ],
 "metadata": {
  "kernelspec": {
   "display_name": "Python 3",
   "language": "python",
   "name": "python3"
  },
  "language_info": {
   "codemirror_mode": {
    "name": "ipython",
    "version": 3
   },
   "file_extension": ".py",
   "mimetype": "text/x-python",
   "name": "python",
   "nbconvert_exporter": "python",
   "pygments_lexer": "ipython3",
   "version": "3.6.2"
  }
 },
 "nbformat": 4,
 "nbformat_minor": 2
}
