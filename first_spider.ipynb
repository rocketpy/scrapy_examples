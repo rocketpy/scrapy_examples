{
 "cells": [
  {
   "cell_type": "code",
   "execution_count": null,
   "metadata": {},
   "outputs": [],
   "source": [
    "#  pip install scrapy"
   ]
  },
  {
   "cell_type": "code",
   "execution_count": null,
   "metadata": {},
   "outputs": [],
   "source": [
    "# for download web page\n",
    "# in console write : scrapy shell https:// ... .com \n",
    "\n",
    "# print(response.text)\n",
    "# take some info by CSS selectors :\n",
    "# response.css('span.text')  it's a <span class=text>'Text'</span>\n",
    "# response.css('span.text').extract()\n",
    "# response.css('span.text::text').extract() - take text from tag span\n",
    "# response.css('span.text::text')[0].extract() - same\n",
    "# response.css('span.text::text').extract_first() - same\n",
    "\n",
    "# response.css('a.tag')\n",
    "# response.css('a.tag::text').extract()  - take text from tag a"
   ]
  },
  {
   "cell_type": "code",
   "execution_count": null,
   "metadata": {},
   "outputs": [],
   "source": [
    "# in console write : scrapy genspider name_spider blabla.com \n",
    "# for spider name we can use any name or name web site\n",
    "# open created file with name_spider.py\n",
    "# scrapy runspider name_spider.py"
   ]
  },
  {
   "cell_type": "code",
   "execution_count": null,
   "metadata": {},
   "outputs": [],
   "source": [
    "import scrapy\n",
    "\n",
    "\n",
    "class FirstSpider(scrapy.Spider):\n",
    "    name = \"FirstSpider\"\n",
    "    \n",
    "    def start_requests(self):\n",
    "        urls = [\n",
    "            'http://quotes.toscrape.com/page/1/'\n",
    "            'http://quotes.toscrape.com/page/2/'\n",
    "    ]\n",
    "    for url in urls:\n",
    "        yield scrapy.Request(url=url, callback=self.parse)\n",
    "        \n",
    "    def parse(self, response):\n",
    "        page = response.url.split(\"/\")[-2]\n",
    "        filename = 'quotes-%s.html' %page\n",
    "        with open(filename, 'wb') as f:\n",
    "            f.write(response.body)\n",
    "        self.log('Saved file %s' % filename)\n",
    "        "
   ]
  },
  {
   "cell_type": "code",
   "execution_count": null,
   "metadata": {},
   "outputs": [],
   "source": [
    "# in console open directory - Spiders (cd Spiders)\n",
    "# execute in console command : scrapy crawl FirstSpider"
   ]
  },
  {
   "cell_type": "code",
   "execution_count": null,
   "metadata": {},
   "outputs": [],
   "source": [
    "import scrapy\n",
    "\n",
    "\n",
    "class QuotesSpider(scrapy.Spider):\n",
    "    name = \"single-quote\"\n",
    "    allowed_domains = [\"toscrape.com\"]\n",
    "    start_urls = ['http://quotes.toscrape.com/random']\n",
    "\n",
    "    def parse(self, response):\n",
    "        self.log('I just visited: ' + response.url)\n",
    "        for quote in response.css('div.quote'):\n",
    "            item = {\n",
    "                'author_name': quote.css('small.author::text').extract_first(),\n",
    "                'text': quote.css('span.text::text').extract_first(),\n",
    "                'tags': quote.css('a.tag::text').extract(),\n",
    "            }\n",
    "            yield item"
   ]
  }
 ],
 "metadata": {
  "kernelspec": {
   "display_name": "Python 3",
   "language": "python",
   "name": "python3"
  },
  "language_info": {
   "codemirror_mode": {
    "name": "ipython",
    "version": 3
   },
   "file_extension": ".py",
   "mimetype": "text/x-python",
   "name": "python",
   "nbconvert_exporter": "python",
   "pygments_lexer": "ipython3",
   "version": "3.6.2"
  }
 },
 "nbformat": 4,
 "nbformat_minor": 2
}
